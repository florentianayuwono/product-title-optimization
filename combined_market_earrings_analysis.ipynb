{
 "cells": [
  {
   "cell_type": "code",
   "execution_count": 1,
   "metadata": {},
   "outputs": [],
   "source": [
    "# Import packages\n",
    "import pandas as pd\n",
    "import os\n",
    "import numpy as np"
   ]
  },
  {
   "cell_type": "code",
   "execution_count": 4,
   "metadata": {},
   "outputs": [],
   "source": [
    "# Load data\n",
    "local_df = pd.read_csv(os.path.join('../data', 'top_local_ID_earrings_sales.csv'))\n",
    "local_df = local_df.drop(['shop_id', 'item_id', 'source', 'level2_global_be_category', 'total_sales'], axis=1)\n",
    "\n",
    "cb_df = pd.read_csv(os.path.join('../data', 'top_cb_ID_earrings_sales.csv'))\n",
    "cb_df = cb_df.drop(['shop_id', 'item_id', 'source', 'level2_global_be_category', 'total_sales'], axis=1)"
   ]
  },
  {
   "cell_type": "code",
   "execution_count": 20,
   "metadata": {},
   "outputs": [
    {
     "data": {
      "text/html": [
       "<div>\n",
       "<style scoped>\n",
       "    .dataframe tbody tr th:only-of-type {\n",
       "        vertical-align: middle;\n",
       "    }\n",
       "\n",
       "    .dataframe tbody tr th {\n",
       "        vertical-align: top;\n",
       "    }\n",
       "\n",
       "    .dataframe thead th {\n",
       "        text-align: right;\n",
       "    }\n",
       "</style>\n",
       "<table border=\"1\" class=\"dataframe\">\n",
       "  <thead>\n",
       "    <tr style=\"text-align: right;\">\n",
       "      <th></th>\n",
       "      <th>total_sales</th>\n",
       "      <th>product_title</th>\n",
       "      <th>cleaned_title</th>\n",
       "    </tr>\n",
       "  </thead>\n",
       "  <tbody>\n",
       "    <tr>\n",
       "      <th>0</th>\n",
       "      <td>9046</td>\n",
       "      <td>Anting Rumbai Panjang Hias Mutiara Berlian Imi...</td>\n",
       "      <td>Anting Rumbai Panjang Hias Mutiara Berlian Imi...</td>\n",
       "    </tr>\n",
       "    <tr>\n",
       "      <th>1</th>\n",
       "      <td>5428</td>\n",
       "      <td>1 Pair Ear Hooks Earhook Silicone Silicon Peng...</td>\n",
       "      <td>Pair Ear Hooks Earhook Silicone Silicon Pengai...</td>\n",
       "    </tr>\n",
       "    <tr>\n",
       "      <th>2</th>\n",
       "      <td>4596</td>\n",
       "      <td>Ear Clip Without Ear Hole Immortal Spirit Sen ...</td>\n",
       "      <td>Ear Clip Without Ear Hole Immortal Spirit Sen ...</td>\n",
       "    </tr>\n",
       "    <tr>\n",
       "      <th>3</th>\n",
       "      <td>2053</td>\n",
       "      <td>[Bayar Di Tempat]1 Pasang Anting Tusuk Berlian...</td>\n",
       "      <td>Bayar Di Tempat Pasang Anting Tusuk Berlian Im...</td>\n",
       "    </tr>\n",
       "    <tr>\n",
       "      <th>4</th>\n",
       "      <td>1846</td>\n",
       "      <td>Anting Titanium Anti Karat Wanita 1 Pasang 14k...</td>\n",
       "      <td>Anting Titanium Anti Karat Wanita Pasang k Ema...</td>\n",
       "    </tr>\n",
       "    <tr>\n",
       "      <th>...</th>\n",
       "      <td>...</td>\n",
       "      <td>...</td>\n",
       "      <td>...</td>\n",
       "    </tr>\n",
       "    <tr>\n",
       "      <th>995</th>\n",
       "      <td>0</td>\n",
       "      <td>Better 12PCS/Set Kristal Berlian Imitasi Ear S...</td>\n",
       "      <td>Better PCSSet Kristal Berlian Imitasi Ear Stud...</td>\n",
       "    </tr>\n",
       "    <tr>\n",
       "      <th>996</th>\n",
       "      <td>0</td>\n",
       "      <td>Anting Bentuk U Bahan S925 Silver Needle Aksen...</td>\n",
       "      <td>Anting Bentuk U Bahan S Silver Needle Aksen Zi...</td>\n",
       "    </tr>\n",
       "    <tr>\n",
       "      <th>997</th>\n",
       "      <td>0</td>\n",
       "      <td>♥ Aimelbie Perhiasan Korea ♥Anting vMoonlight ...</td>\n",
       "      <td>Aimelbie Perhiasan Korea Anting vMoonlight in ...</td>\n",
       "    </tr>\n",
       "    <tr>\n",
       "      <th>998</th>\n",
       "      <td>0</td>\n",
       "      <td>Upstopid Anting Natal Wanita Hewan Menjuntai K...</td>\n",
       "      <td>Upstopid Anting Natal Wanita Hewan Menjuntai K...</td>\n",
       "    </tr>\n",
       "    <tr>\n",
       "      <th>999</th>\n",
       "      <td>0</td>\n",
       "      <td>HOT Fashion zircon earrings European and Ameri...</td>\n",
       "      <td>HOT Fashion zircon earrings European and Ameri...</td>\n",
       "    </tr>\n",
       "  </tbody>\n",
       "</table>\n",
       "<p>1000 rows × 3 columns</p>\n",
       "</div>"
      ],
      "text/plain": [
       "     total_sales                                      product_title  \\\n",
       "0           9046  Anting Rumbai Panjang Hias Mutiara Berlian Imi...   \n",
       "1           5428  1 Pair Ear Hooks Earhook Silicone Silicon Peng...   \n",
       "2           4596  Ear Clip Without Ear Hole Immortal Spirit Sen ...   \n",
       "3           2053  [Bayar Di Tempat]1 Pasang Anting Tusuk Berlian...   \n",
       "4           1846  Anting Titanium Anti Karat Wanita 1 Pasang 14k...   \n",
       "..           ...                                                ...   \n",
       "995            0  Better 12PCS/Set Kristal Berlian Imitasi Ear S...   \n",
       "996            0  Anting Bentuk U Bahan S925 Silver Needle Aksen...   \n",
       "997            0  ♥ Aimelbie Perhiasan Korea ♥Anting vMoonlight ...   \n",
       "998            0  Upstopid Anting Natal Wanita Hewan Menjuntai K...   \n",
       "999            0  HOT Fashion zircon earrings European and Ameri...   \n",
       "\n",
       "                                         cleaned_title  \n",
       "0    Anting Rumbai Panjang Hias Mutiara Berlian Imi...  \n",
       "1    Pair Ear Hooks Earhook Silicone Silicon Pengai...  \n",
       "2    Ear Clip Without Ear Hole Immortal Spirit Sen ...  \n",
       "3    Bayar Di Tempat Pasang Anting Tusuk Berlian Im...  \n",
       "4    Anting Titanium Anti Karat Wanita Pasang k Ema...  \n",
       "..                                                 ...  \n",
       "995  Better PCSSet Kristal Berlian Imitasi Ear Stud...  \n",
       "996  Anting Bentuk U Bahan S Silver Needle Aksen Zi...  \n",
       "997  Aimelbie Perhiasan Korea Anting vMoonlight in ...  \n",
       "998  Upstopid Anting Natal Wanita Hewan Menjuntai K...  \n",
       "999  HOT Fashion zircon earrings European and Ameri...  \n",
       "\n",
       "[1000 rows x 3 columns]"
      ]
     },
     "execution_count": 20,
     "metadata": {},
     "output_type": "execute_result"
    }
   ],
   "source": [
    "import re\n",
    "def clean_title(title):\n",
    "    cleaned_title = re.sub(r'[^a-zA-Z\\s]', '', title)\n",
    "    cleaned_title = re.sub(r'\\s+', ' ', cleaned_title)\n",
    "    return cleaned_title.strip()\n",
    "\n",
    "local_df['cleaned_title'] = local_df['product_title'].apply(clean_title)\n",
    "cb_df['cleaned_title'] = cb_df['product_title'].apply(clean_title)\n",
    "cb_df"
   ]
  },
  {
   "cell_type": "code",
   "execution_count": 23,
   "metadata": {},
   "outputs": [
    {
     "name": "stdout",
     "output_type": "stream",
     "text": [
      "Keywords that appear more in local compared to cross-border:\n",
      "['AC', 'ACC', 'ACCESORIES', 'ACCESORIS', 'ACCESSORIES', 'ADAT', 'ADN', 'AF', 'AIR', 'AKSESESORIS', 'AKSESORIS', 'ALA', 'ALAS', 'ALAT', 'ALAY', 'ALCOHOL', 'ALE', 'ALERGI', 'ALICE', 'ALKOHOL', 'ALLOY', 'ALPAKA', 'AMBYAR', 'AN', 'ANAK', 'ANAKDEWASA', 'ANEKA', 'ANF', 'ANGSA', 'ANT', 'ANTI', 'ANTIKARAT', 'ANTING', 'ANTINGANTING', 'ANTINGJAWELRY', 'AP', 'AR', 'ASB', 'ASIN', 'ASLI', 'ATAU', 'ATG', 'ATX', 'AWANG', 'AY', 'AYAM', 'AYN', 'Accesories', 'Acckini', 'Achava', 'Adat', 'Aesthetic', 'Aksesories', 'Al', 'Alas', 'Alkohol', 'Alolula', 'Alphabet', 'Angel', 'Anna', 'Antam', 'Antikarat', 'AntingAksesoris', 'Antingan', 'Antinggan', 'Antinggiwang', 'Antingjepit', 'Artis', 'Asepsis', 'Asyla', 'Aurora', 'Awet', 'BAHAN', 'BAJA', 'BALI', 'BAMBU', 'BANTAL', 'BANTING', 'BANYAK', 'BARBEL', 'BARBIEAKSESORIS', 'BASE', 'BASEBALL', 'BAYAR', 'BC', 'BE', 'BEAUTYSBY', 'BENEDETTE', 'BERGARANSI', 'BERKUALITAS', 'BERLAPIS', 'BERLIAN', 'BESAR', 'BESEK', 'BESI', 'BEST', 'BHN', 'BIBIR', 'BINTANG', 'BIO', 'BISA', 'BLUDRU', 'BLUE', 'BN', 'BOHEMIAN', 'BOK', 'BOX', 'BOXES', 'BTs', 'BUAH', 'BUAT', 'BUKAN', 'BULAT', 'BULU', 'BUNDAR', 'BUNGA', 'BURUNG', 'BUTTERFLYCHERRYBUNDLE', 'BYSTESI', 'Baekhyun', 'Bag', 'Bagus', 'Bali', 'Bandol', 'Bandul', 'Banting', 'Bear', 'Beku', 'Bergaransi', 'BerlianAnting', 'Besi', 'Betina', 'Bibit', 'BigBang', 'Bisa', 'Blink', 'Bludru', 'BludruAnting', 'Bok', 'Borneo', 'Bron', 'Bronze', 'Bros', 'Bross', 'Bugis', 'Bukan', 'BulatRing', 'Bump', 'BungaAksesoris', 'BungaAnting', 'Busa', 'Button', 'Buy', 'Bvl', 'Byeol', 'CABANG', 'CANTIK', 'CAP', 'CAPIT', 'CARD', 'CATHCER', 'CEPAT', 'CEPIT', 'CEPRET', 'CERIA', 'CETET', 'CEWEK', 'CHAIN', 'CINCIN', 'CKK', 'CLASSIC', 'CLAYANTING', 'CLIP', 'CLIPS', 'CM', 'CODAnting', 'CODBISA', 'COLLECTIONSBY', 'COWOK', 'CREWNECK', 'CRISTAL', 'CUSTOM', 'Cabang', 'Cake', 'Camellia', 'Campur', 'Cangkang', 'Cantolan', 'Cap', 'Cape', 'Carm', 'Casual', 'CatcherEaringBaliShurimaksesoris', 'Caterine', 'Cayman', 'Cc', 'Cengkrem', 'Ceplik', 'Cepuk', 'Cerorot', 'Cew', 'Cewe', 'Character', 'Cincing', 'Claude', 'Claudya', 'Colokan', 'Colour', 'Comet', 'Cowo', 'Cowok', 'Creol', 'Cuancuy', 'Cube', 'Custom', 'Cutter', 'Cwy', 'DAISY', 'DAN', 'DAPAT', 'DARI', 'DAUN', 'DAY', 'DD', 'DEBU', 'DEPOK', 'DESI', 'DESY', 'DEWASA', 'DF', 'DI', 'DIAMETER', 'DIAMOND', 'DISNEY', 'DISPLAY', 'DITEMPAT', 'DIUJUNG', 'DK', 'DLL', 'DREAM', 'DSM', 'DUA', 'DUDUKAN', 'DUST', 'Dagu', 'DaisyAnting', 'Daniel', 'DapurCantik', 'Dari', 'Day', 'Dayak', 'Dear', 'Delta', 'Desi', 'Desy', 'Devashionid', 'Dewasaanakanak', 'Dewata', 'Dewi', 'Diameter', 'Dijamin', 'Disc', 'Disposabel', 'Disposable', 'Disposeable', 'Dompet', 'Dream', 'Dubai', 'Dudukan', 'Dust', 'Dustplug', 'EAR', 'EARING', 'EARINGS', 'EARRING', 'EARRINGS', 'ECERAN', 'EDISI', 'EE', 'ELEGAN', 'ELEGANT', 'ELSA', 'EMAS', 'EMKA', 'ER', 'ETALASE', 'ETNIS', 'EXCLUSIVE', 'EXO', 'EZGH', 'Elona', 'Enhypen', 'Evole', 'FA', 'FAKE', 'FAS', 'FASHION', 'FERN', 'FHK', 'FIRST', 'FJCO', 'FLASH', 'FLOWER', 'FREE', 'FS', 'FSA', 'FULL', 'FYGALERY', 'Fancy', 'Farha', 'Fasion', 'Fendyfashion', 'FerenHongXia', 'Fifi', 'Fincie', 'Flash', 'Flow', 'Foryourvanity', 'Frame', 'GANTUNG', 'GANTUNGAN', 'GASS', 'GAYA', 'GB', 'GELANG', 'GELASAN', 'GEOMETRI', 'GIBSI', 'GIWANG', 'GIWANGANTING', 'GLAMOUR', 'GLISERIN', 'GLYCERINE', 'GOATLINK', 'GOLD', 'GOT', 'GP', 'GRATIS', 'GROSIR', 'GTB', 'GWH', 'Gallery', 'GambarFree', 'Gantungakrilik', 'Garansi', 'Gaul', 'Geser', 'Get', 'Ghazali', 'Gipsy', 'Girden', 'GirdenAksesoris', 'GirlE', 'Gjarum', 'Glamorousky', 'Goatling', 'Gogoland', 'Good', 'Gostores', 'Grafir', 'Gram', 'Grand', 'Green', 'Grosirlanolinshop', 'Gun', 'H', 'HALUS', 'HAND', 'HANDMADE', 'HARGA', 'HARUS', 'HB', 'HBS', 'HC', 'HEEYYBOX', 'HIASN', 'HIDUNG', 'HIJAB', 'HITAM', 'HITAMANTING', 'HK', 'HO', 'HOLDER', 'HOLLOW', 'HONDA', 'HOOKS', 'HOOP', 'HOOPS', 'HP', 'HRG', 'HULA', 'Haje', 'Halo', 'Hand', 'Hangtag', 'Hantaran', 'Harga', 'Harper', 'Haru', 'Healing', 'Heretic', 'Hi', 'Hierarchy', 'HijabAnting', 'Hits', 'Hj', 'Hollowbola', 'Hyunjin', 'I', 'IDK', 'II', 'IMPOR', 'IMPORT', 'IMS', 'INDOMINI', 'INFINITY', 'IRITASI', 'ISI', 'ISUZU', 'IVAN', 'Import', 'Indo', 'Indonesia', 'Isuzu', 'Item', 'JADUL', 'JARUM', 'JELLI', 'JEPANG', 'JEPIT', 'JEPUN', 'JEWELRY', 'JILBAB', 'JIPSY', 'JKT', 'JOLENE', 'JUAL', 'JUMBAI', 'JUNTAI', 'JURAI', 'JW', 'Jakarta', 'Jalar', 'Jasmine', 'Jawelry', 'Jepun', 'Jewerly', 'Jhumka', 'Jilbab', 'JilbabHijab', 'Jumat', 'Jurai', 'KA', 'KADAR', 'KAIT', 'KALANTHA', 'KALIMANTAN', 'KALUNG', 'KARAKTER', 'KARAT', 'KARATA', 'KARATANTI', 'KARET', 'KARTU', 'KBK', 'KDP', 'KECIL', 'KECILRANDOM', 'KEKINIAN', 'KEMBANG', 'KENDARI', 'KENDARIGIWANG', 'KEPALA', 'KERAJINAN', 'KEREN', 'KERENANTING', 'KERING', 'KERJA', 'KERTAS', 'KHAS', 'KHUSUS', 'KILAP', 'KIMBERLIN', 'KINGS', 'KINI', 'KLIP', 'KM', 'KNOT', 'KODE', 'KOIN', 'KOKOT', 'KOLONG', 'KONEKTOR', 'KOOIL', 'KOOILL', 'KOREA', 'KOREAGIWANG', 'KOREAN', 'KOTAK', 'KPop', 'KRISTAL', 'KUALITAS', 'KULIT', 'KUPING', 'KUPU', 'KURNIA', 'KaitRangka', 'Kalimantan', 'Kamboja', 'Kampung', 'Kar', 'Karatan', 'Kartilago', 'Kece', 'Kekinian', 'Keras', 'Kerudung', 'Khas', 'Kilau', 'Kirim', 'Klavikula', 'Kode', 'Kodi', 'Kokot', 'Kombinasi', 'Kosongan', 'Kroncong', 'Kulakan', 'Kulkas', 'Kuning', 'Kuping', 'Kustom', 'LABEL', 'LAPIS', 'LARGE', 'LAYERS', 'LEBAY', 'LETER', 'LEYER', 'LIDAH', 'LINGKARAN', 'LINK', 'LIONTIN', 'LITTLELOLLICO', 'LIVE', 'LK', 'LOBSTER', 'LOGAM', 'LOMBOK', 'LOVE', 'LUBANG', 'LUCU', 'LUNTUR', 'LUSINAN', 'LVS', 'Laku', 'Laris', 'Lav', 'Lavish', 'Lempengan', 'Lepas', 'Link', 'LittleThingSheWear', 'Littlethingshewear', 'Logos', 'Lombok', 'Look', 'Lucky', 'Lulu', 'Lulustar', 'Lusinan', 'Luxx', 'Lyra', 'M', 'MAGHNET', 'MAGNET', 'MAGNETIC', 'MAKEUP', 'MALAY', 'MANGNET', 'MANIK', 'MANTEN', 'MAS', 'MASA', 'MASAKAN', 'MASKER', 'MATA', 'MAWAR', 'MCO', 'MELODY', 'MENDUA', 'MIMPI', 'MIN', 'MINI', 'MINIMAL', 'MINION', 'MISS', 'MJB', 'MO', 'MODEL', 'MONEL', 'MOONSHOP', 'MORYMOSHI', 'MOTIF', 'MS', 'MSY', 'MTR', 'MURAH', 'MURMER', 'MURMUREID', 'MUSIK', 'MUTIARA', 'Macam', 'Made', 'Madley', 'Maghnet', 'Mahar', 'Mainan', 'Makassar', 'Malaikat', 'Marble', 'Mariposa', 'Market', 'Mask', 'Masker', 'Me', 'Medium', 'Melior', 'Menyimpan', 'Meriah', 'Metalik', 'Mickey', 'Mika', 'Mikacard', 'Minang', 'Miniatur', 'Minnie', 'Minuman', 'Miss', 'Mocha', 'Monel', 'Mouse', 'Mudah', 'MurahAnting', 'Muslim', 'MutiaraAnting', 'MyDoublefID', 'Mysterygirl', 'NATURAL', 'NCT', 'NCTzen', 'NCi', 'NECKLACE', 'NEDDLE', 'NEW', 'NN', 'NNW', 'NO', 'NONHIJAB', 'NOPULL', 'NOSE', 'NOW', 'Nagita', 'Nama', 'Name', 'Nikel', 'NoPull', 'Nuforyou', 'Numbers', 'NunuLisaTan', 'Nusantara', 'ODS', 'OILA', 'OK', 'OLLA', 'ON', 'ONEK', 'ORGANIZER', 'ORGM', 'ORI', 'ORIGINAL', 'ORPHIC', 'OSD', 'OSM', 'OVERFLOWSID', 'OZ', 'Official', 'Oksidasi', 'Omahann', 'Ongkir', 'Order', 'Ori', 'PACKAGING', 'PACKING', 'PAKAI', 'PALSU', 'PANJANG', 'PANTAT', 'PANTHER', 'PART', 'PASANG', 'PASANGSET', 'PAYLATER', 'PCSMODEL', 'PD', 'PEARL', 'PELANGI', 'PENANGKAP', 'PENGANTIN', 'PENUTUP', 'PENYIMPANAN', 'PER', 'PERAK', 'PERHIASAN', 'PERKOTAK', 'PERMATA', 'PERSEGI', 'PESTA', 'PIC', 'PICT', 'PIERCING', 'PIERCINGS', 'PILIH', 'PINGGIR', 'PINKCOKELAT', 'PIR', 'PITA', 'PKT', 'PLAN', 'PLASTIK', 'PO', 'POLOS', 'POMPOM', 'PRAKARYA', 'PRAMUGARI', 'PREMIUM', 'PRIA', 'PRIAANTING', 'PRIAWANITA', 'PROCEED', 'PRODUK', 'PROMO', 'PSG', 'PUTIH', 'Pack', 'Pajangan', 'Pakai', 'Paku', 'Pantat', 'Pastan', 'Pearls', 'Pelat', 'Pelubang', 'Pembatas', 'Penahan', 'Penambahan', 'Penyangga', 'Per', 'PerakEmas', 'Percing', 'Perlusin', 'Perpasang', 'Ping', 'Pisah', 'Pistol', 'Pluggy', 'PomPom', 'Pompok', 'Prancis', 'Prevoled', 'Promo', 'Q', 'QIZ', 'QPP', 'RAB', 'RAK', 'RANDOM', 'RANTAI', 'RANTE', 'RD', 'READYANTING', 'REAL', 'REALPICT', 'REKRUTMEN', 'RETRO', 'RHODIUM', 'RING', 'ROBUX', 'RODA', 'RODAANTING', 'ROSE', 'ROWLING', 'RSB', 'RUMBAI', 'RX', 'Rak', 'Rania', 'Rante', 'Ranting', 'RegularDewasa', 'Request', 'Reseller', 'Resleting', 'Rhodium', 'Ribbon', 'Rocker', 'Roda', 'Rodium', 'Roll', 'Roman', 'Rosegold', 'Rp', 'Rppcs', 'Ruthby', 'SALIBSTUD', 'SAMPING', 'SAO', 'SATU', 'SATUAN', 'SB', 'SEGER', 'SEKALI', 'SELEBGRAM', 'SELLER', 'SEPASANG', 'SETELAN', 'SHAPE', 'SHOPPING', 'SILVERGOLD', 'SIMPEL', 'SIMPLE', 'SIZE', 'SJ', 'SKR', 'SKZ', 'SLEBEW', 'SMS', 'SPELONA', 'SR', 'STAILESTEEL', 'STAINLEES', 'STAINLESS', 'STAREX', 'STEEL', 'STERIL', 'STIPA', 'STIPPA', 'STIPPPA', 'STOPER', 'STRADIVARIUS', 'STT', 'STUD', 'STUDEX', 'STUDS', 'STYLE', 'SUBENG', 'SUDAH', 'SUMPEL', 'SUPER', 'SUPRA', 'SUSUN', 'SVA', 'SWAROVSKI', 'SWEATER', 'SYNTHETIC', 'Safe', 'Sambungan', 'Sandra', 'Saridewi', 'Satuan', 'Sehari', 'Sekali', 'Selamanya', 'Selebgram', 'Seller', 'Semar', 'Senada', 'Senin', 'Sepeda', 'Sesuai', 'Setelan', 'Siap', 'Siganture', 'Sijeuni', 'Sillicon', 'Simpel', 'Sirkon', 'Skz', 'Slep', 'Solution', 'Sookie', 'Souvenir', 'Speed', 'Stainles', 'Stanless', 'Stayliss', 'Stelan', 'Steril', 'Stik', 'StillsSimple', 'Stone', 'Studek', 'Studex', 'Studios', 'StyleHipHop', 'Subeng', 'Superungul', 'Supra', 'Surreal', 'Swarovzski', 'TAEHYUNG', 'TAG', 'TANGAN', 'TANPA', 'TARING', 'TASBIH', 'TASBLUEH', 'TASEL', 'TAWAR', 'TB', 'TELINGA', 'TEMPAT', 'TEMPEL', 'TERBARU', 'TERBATAS', 'TERLARIS', 'TERLENGKAP', 'TERMURAH', 'TETES', 'TIDAK', 'TIDIK', 'TIFFANY', 'TINDIK', 'TINDIKANTING', 'TITANIUM', 'TJM', 'TJZ', 'TK', 'TMALL', 'TOMSTOREID', 'TOPI', 'TRANSPARAN', 'TRENDY', 'TS', 'TURBAN', 'TUSUK', 'TUTUP', 'Takota', 'Tampa', 'Tanggung', 'Tari', 'Taring', 'Tasel', 'Telepon', 'TelingaHidung', 'Tembak', 'Terlaris', 'Termurah', 'Tessel', 'Testi', 'Thalia', 'Timahpemberat', 'TinyPotato', 'Tisu', 'TitanIum', 'TitaniumMini', 'Toge', 'Toko', 'Top', 'Topi', 'Toraja', 'Transparant', 'Trapesium', 'Turban', 'Tussel', 'Tusukan', 'UBS', 'UDANG', 'UK', 'UKURAN', 'UNIK', 'UNIKOID', 'UNISEX', 'UNTUK', 'USA', 'Udang', 'Urbanbeauty', 'VAIZA', 'VARIAN', 'VCo', 'VEGA', 'VINTAGE', 'VIRAL', 'VM', 'VMT', 'VNCCCI', 'VZ', 'Vanesa', 'Varian', 'Variasi', 'Varigata', 'Vermiculite', 'Victory', 'Viral', 'WAITAANTING', 'WANITA', 'WANITAANTING', 'WARNA', 'WARNI', 'WBS', 'WEIYI', 'WFT', 'WHITE', 'WIDURI', 'WM', 'Wadah', 'WanitaAnting', 'WanitaHadiah', 'WanitaPria', 'WarnaBahan', 'Week', 'Welcome', 'Wing', 'Wooden', 'XUPING', 'XUPINGanting', 'Xupblink', 'Xuping', 'YSM', 'Yaffa', 'Yara', 'Yaxiya', 'Z', 'ZAMAN', 'ZHANG', 'ZOOMSTAR', 'Zafa', 'Zag', 'Zahra', 'Zig', 'ac', 'accecoris', 'accesoris', 'acrylic', 'ada', 'adaptor', 'adat', 'aesthetic', 'akrilik', 'ala', 'alat', 'alergi', 'alpaka', 'an', 'anak', 'anakbayi', 'anakdewasa', 'anakmainan', 'angsa', 'annasui', 'antingan', 'antingdisplay', 'antinggiwang', 'antinggwlt', 'antingpajangan', 'asessories', 'atau', 'ating', 'awet', 'bag', 'bagus', 'bali', 'bandung', 'banyak', 'barbel', 'barongan', 'baseball', 'baut', 'bayar', 'beads', 'bekas', 'bengkak', 'benih', 'bening', 'bentuk', 'berkilau', 'berlapis', 'biduri', 'biji', 'birthday', 'bisa', 'bludru', 'bodies', 'body', 'boho', 'bolong', 'bonel', 'bosh', 'box', 'bracelet', 'branded', 'bridesmaid', 'bross', 'bt', 'bukan', 'bulet', 'bump', 'bungee', 'bungkus', 'burch', 'by', 'cabang', 'cakram', 'cantik', 'cantolan', 'capit', 'cetak', 'cewek', 'chakeout', 'channel', 'chat', 'chimmy', 'cincinkalunggelangantingliontinLMANTAM', 'clay', 'cleaner', 'co', 'cocok', 'coil', 'coklat', 'cooky', 'couple', 'cowok', 'craft', 'crystal', 'custom', 'cute', 'daily', 'daun', 'daunanting', 'dayak', 'de', 'desi', 'desy', 'dewasa', 'dewasaanak', 'dgn', 'dhesi', 'diameter', 'diamonds', 'dinova', 'dipakai', 'disney', 'disposeable', 'ditempat', 'domas', 'double', 'drat', 'drawers', 'dudukan', 'dumbo', 'dunia', 'dust', 'earback', 'earhook', 'earing', 'earings', 'earnut', 'earplug', 'edgy', 'edition', 'elegan', 'enam', 'etnik', 'fake', 'fossl', 'fre', 'free', 'full', 'fusion', 'gak', 'ganci', 'gantungan', 'gaul', 'gelang', 'geometri', 'gipsi', 'gipsy', 'giwang', 'giwanganting', 'giwangliontin', 'glucopel', 'goatlink', 'goldsilver', 'gondel', 'good', 'gorae', 'gorden', 'gotlink', 'gr', 'grAnting', 'gram', 'grosir', 'grosiraksesoris', 'grosirmainan', 'grosirsouvernir', 'grpc', 'gunakan', 'halus', 'hanger', 'hangtag', 'harga', 'heavenly', 'hias', 'hiasan', 'hidung', 'hidungnath', 'hidungstud', 'hijab', 'hijau', 'hooks', 'hoops', 'importbhe', 'imut', 'india', 'indiaanting', 'infeksi', 'intage', 'iritasi', 'isi', 'jadul', 'jadulmainan', 'jam', 'jan', 'jaranan', 'jariang', 'jempit', 'jepit', 'jepitaksesoris', 'jepret', 'jewerly', 'jilbab', 'jual', 'juntai', 'juntaianting', 'jurai', 'kacamata', 'kadar', 'kadark', 'kait', 'kaitan', 'kali', 'kalung', 'kalungantinggelangcincin', 'kaos', 'karakter', 'karet', 'kartu', 'kayu', 'kekinian', 'keloid', 'kelopak', 'kepala', 'kepang', 'kerabu', 'kerajinan', 'kerbau', 'kerenkecemantaptopcer', 'kerudung', 'kg', 'kirim', 'kliur', 'knock', 'kode', 'koin', 'kokot', 'kolong', 'koncer', 'koreaFashion', 'korean', 'kota', 'kotak', 'koya', 'kristal', 'kualitas', 'kucing', 'kunci', 'kuning', 'kuping', 'kupinganting', 'kupukupu', 'kwalitas', 'laci', 'lagi', 'lama', 'laras', 'lavender', 'layer', 'lecet', 'lempengtindik', 'leter', 'letter', 'lidah', 'lidi', 'liontin', 'lipcream', 'live', 'lobang', 'lock', 'logam', 'logo', 'lokal', 'long', 'lotus', 'lubang', 'lucuaksesoris', 'lucusouvenir', 'lusin', 'magnetmagnet', 'mahkota', 'mainan', 'makassar', 'malaysia', 'mandiri', 'mang', 'mangnet', 'manik', 'manikmanik', 'mas', 'masker', 'mata', 'matte', 'mawar', 'medium', 'meja', 'merusak', 'mesin', 'mickey', 'mifta', 'miniatur', 'minimal', 'minnie', 'miyuki', 'ml', 'mobil', 'model', 'moderen', 'modern', 'monel', 'motif', 'mrican', 'mt', 'muda', 'murah', 'murahaksesoris', 'murahhandmade', 'murahmainan', 'murahsouvenir', 'murni', 'mutiaraanting', 'mutiaramata', 'mutiaramotif', 'myrosselie', 'n', 'nama', 'nath', 'necklace', 'nissa', 'non', 'nose', 'noseanting', 'nota', 'nusantara', 'nyak', 'nyaman', 'od', 'original', 'pack', 'pairs', 'pairsSet', 'pajangan', 'pak', 'pakai', 'paket', 'pantat', 'paper', 'parabola', 'pasangpcs', 'patam', 'pay', 'paylater', 'payltr', 'pcp', 'pcsGRAM', 'pcspcs', 'pelangi', 'pelubang', 'pemberat', 'penahan', 'pengait', 'pengantin', 'pengapit', 'pengganti', 'pengntin', 'pengunci', 'penutup', 'penyok', 'perahu', 'perdana', 'perhisan', 'permen', 'pernikahan', 'persing', 'piercing', 'piercingpiercing', 'pircing', 'pirsing', 'pkt', 'plakat', 'planet', 'plastikHarga', 'plong', 'plug', 'poct', 'poduk', 'polos', 'pom', 'premium', 'psc', 'purbalingga', 'putar', 'putih', 'putra', 'putri', 'putricmcm', 'pyltr', 'quality', 'r', 'ragata', 'random', 'rantai', 'rawis', 'rd', 'real', 'rekapan', 'replika', 'resin', 'rings', 'rock', 'roll', 'rumput', 'sablon', 'sabyan', 'sachi', 'saja', 'salib', 'samping', 'samyang', 'sangat', 'sanggul', 'satuan', 'screen', 'sedang', 'segitiga', 'sekali', 'selamanya', 'selebgram', 'selebritas', 'semar', 'sepasang', 'sepeda', 'seperti', 'sepidol', 'sepuh', 'seri', 'setIMPORT', 'shell', 'shooky', 'shopee', 'siger', 'silang', 'silicon', 'silicone', 'sisiTitanium', 'sisimuka', 'size', 'slip', 'solitare', 'souvenir', 'ss', 'ssmotor', 'stenlis', 'steril', 'stopper', 'strap', 'stylish', 'subang', 'subeng', 'sumpel', 'sumping', 'surat', 'surgical', 'swarovski', 't', 'tag', 'tahan', 'tali', 'tampan', 'tangan', 'tanggung', 'taring', 'tas', 'tasel', 'tassle', 'tata', 'tdk', 'telepon', 'tembak', 'tempel', 'tengah', 'tengkorak', 'tenun', 'terbaik', 'terlaris', 'termurah', 'three', 'tiger', 'tile', 'tindikan', 'tindikbody', 'ting', 'tinggal', 'tipe', 'titaniumaksesorisperhiasan', 'toge', 'toko', 'tooll', 'top', 'topi', 'tory', 'transparan', 'trendy', 'tulang', 'turban', 'turbanbaby', 'tusel', 'tussel', 'tusuk', 'tusukAnting', 'tutup', 'udang', 'ukir', 'ukuran', 'ulir', 'ultrasonic', 'ungu', 'unikaksesoris', 'unikmainan', 'uniksouvernir', 'unisex', 'valentine', 'van', 'virtual', 'warna', 'white', 'woman', 'xcm', 'xuping', 'ya', 'yaxiya', 'ziha']\n",
      "\n",
      "Keywords that appear more in cross-border compared to local:\n",
      "['AAA', 'AAAZircon', 'AEAnting', 'AKIN', 'ATTRACT', 'AYCN', 'Aaron', 'Abbey', 'Abdey', 'Abdie', 'Abstrak', 'Acak', 'Accessorie', 'Action', 'Ada', 'Adawnshbhyu', 'Adventure', 'Afrika', 'After', 'Agate', 'Agatha', 'Aimelbie', 'Aitna', 'Ajaib', 'Akatsuki', 'Alami', 'Alberich', 'Alis', 'Alislidahhidungbibirtubuh', 'Alisouy', 'All', 'AllMatch', 'Allergy', 'Allgoods', 'Allinone', 'Allmatch', 'Almencla', 'Alternatif', 'American', 'Amerika', 'AnakAnak', 'Ancient', 'Aneh', 'Anggun', 'Angin', 'Angka', 'Angkat', 'Angsa', 'Anhxinjie', 'Animal', 'Animasi', 'Anjing', 'Ankh', 'Anniversary', 'Antey', 'AntiAlergi', 'Antiblocking', 'Antik', 'AntingAnti', 'AntingAntingBaru', 'AntingAntingGelombang', 'Antique', 'Antler', 'Anyaman', 'Api', 'ApplexKasus', 'Aqua', 'Aquamarin', 'Arin', 'Around', 'As', 'Asetat', 'Aster', 'Astronot', 'Asymmetric', 'Asymmetrical', 'Atau', 'Atmosfer', 'Auricle', 'Austria', 'Autu', 'Awan', 'Awaytr', 'B', 'BATU', 'BK', 'BLISS', 'BNEG', 'BOMING', 'BSS', 'BT', 'Baade', 'Babbs', 'BackLife', 'Backs', 'Badan', 'Bagian', 'Baihuijianzhu', 'Baik', 'Bales', 'Balon', 'Bamoer', 'Bangau', 'Bangle', 'Bantu', 'Baojiniao', 'Barang', 'Barbatos', 'Barbell', 'Baris', 'Barokretro', 'Base', 'Bata', 'Bauhinia', 'Bead', 'Beads', 'Beaty', 'Bebas', 'Bee', 'Beige', 'Beijing', 'Belah', 'Beli', 'Bell', 'Belle', 'Berat', 'Berbentuk', 'Bergaya', 'Berkedip', 'Berkelas', 'Berlapis', 'Berlebihan', 'Bermanfaat', 'Bermata', 'Bermutu', 'Berongga', 'Berpohon', 'Bertabur', 'Bertahun', 'Bertatahkan', 'Bertekstur', 'Beruang', 'Berwarna', 'Better', 'Bibir', 'Biker', 'BiliBili', 'Binatang', 'Bingkai', 'BintangBulanHati', 'Bintanghati', 'Bir', 'Bird', 'Birthday', 'Biru', 'Bizarre', 'Blackpink', 'Blade', 'Blank', 'Bless', 'Blossom', 'Blue', 'Bluelans', 'Bluetooth', 'Boa', 'Boba', 'Body', 'Bohemia', 'Boho', 'Bolilishp', 'Bone', 'Bor', 'Bow', 'Bracelet', 'Branch', 'Brid', 'Brincos', 'Bt', 'Bts', 'Buah', 'Buatan', 'Buku', 'Bulan', 'Bulathoop', 'Bulldog', 'BungaKlip', 'Burung', 'Busana', 'Busur', 'Butik', 'Butter', 'CC', 'CDHSLE', 'CE', 'CLERBCPWL', 'CODReady', 'COUGH', 'CZ', 'Cabochon', 'Cactus', 'Cahaya', 'Cakar', 'Candy', 'Capacity', 'Captive', 'Capung', 'Cara', 'Cartilage', 'Cartoon', 'Case', 'Castle', 'Ce', 'Celebrity', 'Cerdas', 'Ceri', 'Ceripita', 'Ceruk', 'CerukAnting', 'Cfid', 'Ch', 'Chainsaw', 'Chalcedony', 'Charms', 'Cheon', 'Cheongsam', 'CherieHome', 'Cherry', 'Chest', 'Chic', 'Childe', 'Chimmy', 'China', 'Chinese', 'Chitengyecool', 'Chouettelly', 'Christma', 'Chrysanthemum', 'Cina', 'Cinnabar', 'Cinnamoroll', 'Circle', 'City', 'Clamp', 'Clasp', 'Clasps', 'Classy', 'Claus', 'Claw', 'Clear', 'Clever', 'ClipOpal', 'Clips', 'Clm', 'Cloud', 'Clover', 'Clue', 'Coa', 'Cobra', 'Cocktail', 'Cocok', 'Coil', 'Coins', 'Coklat', 'Color', 'Colored', 'Colorful', 'Colors', 'Compact', 'Cone', 'Connecting', 'Connector', 'Constellation', 'Contracted', 'Cooky', 'Cool', 'Cordell', 'Cos', 'Costume', 'Counter', 'Couple', 'Couture', 'Cp', 'Cr', 'Crack', 'Crawler', 'Creative', 'Creativity', 'Creole', 'Crossborder', 'Crossmultilayer', 'Cshaped', 'Cuff', 'Cutest', 'Cuticate', 'Cz', 'DALMAJUNG', 'DB', 'DBPin', 'DDFI', 'DG', 'DIYS', 'DOREEN', 'DRE', 'Dadu', 'Dag', 'Dalam', 'Dalikacrep', 'Danselatan', 'Dapat', 'Dark', 'Darnell', 'Db', 'Deaign', 'Decor', 'Decoration', 'Deep', 'Dekorasi', 'Dekoratif', 'Delicate', 'Derajat', 'Desainer', 'Designer', 'Dhruw', 'Diamante', 'Diamondstudded', 'Digunakan', 'Dimensi', 'Dincior', 'Dingin', 'Dinosaurus', 'Dipakai', 'Ditindik', 'Diy', 'Dodder', 'Dolar', 'Dolity', 'Dongdaemun', 'Donuts', 'Double', 'Dragon', 'Dragonball', 'Drama', 'Dress', 'Drips', 'DropProof', 'Droplet', 'Druzy', 'Dual', 'Duck', 'Dupa', 'Dustproof', 'Dynwave', 'EASC', 'ED', 'EFG', 'ENN', 'EONE', 'Ea', 'EarMulticolor', 'Earbone', 'Earclip', 'Earclips', 'Earcuff', 'Eardrop', 'Eardrum', 'Earhooks', 'Earless', 'Earnail', 'Earnuts', 'EarringsAksesoris', 'EarringsMonthDay', 'EarringsMulticolor', 'Ears', 'Earstuds', 'Earwear', 'Easter', 'Easy', 'Egg', 'Eid', 'Ekor', 'Ekstrim', 'Elan', 'Elegance', 'Elegantlady', 'Elegent', 'Elektroplating', 'Element', 'Elephant', 'Elk', 'Elmer', 'EmasDikemas', 'Emboss', 'Emilee', 'Empat', 'Enacolor', 'Enam', 'Enamel', 'Enamelkristal', 'Engagement', 'Enthusiasts', 'Epoksi', 'Erimo', 'Eropa', 'Erza', 'Espoir', 'European', 'Eveland', 'Evening', 'Exaggerated', 'Exo', 'Expander', 'Expansion', 'Exquisite', 'Eyebrow', 'FCC', 'FELIX', 'FG', 'FLO', 'Fairy', 'Falcon', 'Family', 'Fan', 'Fans', 'FashionFashion', 'Fashionable', 'Fashionfat', 'Favors', 'Fcc', 'Feather', 'Features', 'Fecomey', 'Feet', 'Fel', 'Felix', 'Female', 'Feminin', 'Femininity', 'Femme', 'Ferry', 'Festival', 'Fhid', 'Figure', 'Findings', 'Finger', 'Firefly', 'Fishtail', 'Fit', 'Fitg', 'Five', 'Fjdpasang', 'Fland', 'Flat', 'Flesh', 'Flexi', 'Flgo', 'Flowers', 'FloweruringId', 'Foger', 'Foil', 'For', 'Foto', 'Fox', 'Francesco', 'Frandlfe', 'French', 'Freneci', 'Fresh', 'Fried', 'Friend', 'Fringe', 'Frozen', 'Galaxy', 'Ganda', 'Gandum', 'Garnet', 'Gauge', 'Gauges', 'Gecko', 'Gems', 'Genshin', 'Gent', 'Gentlehappy', 'Geometry', 'Ghost', 'Gigi', 'Gigitan', 'Giok', 'Giovanni', 'Girls', 'Glamour', 'Glasses', 'Glitter', 'Glory', 'Glossy', 'Glow', 'Gmz', 'Gog', 'Goku', 'Golden', 'GoldenStainless', 'Goldkingdom', 'Gongjing', 'Got', 'Goth', 'Gothic', 'Gotik', 'Grabber', 'Gradien', 'Grip', 'Gsq', 'Guadalupe', 'Gugur', 'Gula', 'HARRIETT', 'HBMR', 'HL', 'HMC', 'HOMYL', 'HOT', 'HQ', 'HSL', 'Halloween', 'Hamsa', 'Han', 'Hanafuda', 'Hancock', 'Hanfu', 'Hantu', 'Happy', 'Harajuku', 'Hatel', 'HatiYimi', 'Hayao', 'Hbid', 'Heart', 'Helix', 'Hequ', 'Hetian', 'Highend', 'Hilang', 'Hip', 'HipHop', 'Hiphop', 'Hippie', 'Hipster', 'Hiu', 'Ho', 'Holders', 'Holding', 'Hole', 'Hollow', 'Holografik', 'Home', 'Hong', 'Honghaodianzi', 'HookMulticolor', 'HoopBulat', 'Hop', 'Housekeeper', 'Howl', 'Howls', 'Huajie', 'Hubert', 'Huggies', 'Huip', 'Hujan', 'Hummingbird', 'Humor', 'Hye', 'Hypoall', 'Hyuna', 'Hyung', 'ID', 'IDOL', 'IEE', 'INS', 'INSTORE', 'Iblis', 'Ibu', 'Id', 'Ideal', 'Ifme', 'Ikan', 'Ikatan', 'Ike', 'Ikon', 'Iluminasi', 'Immortal', 'Impact', 'In', 'Inclusive', 'Indah', 'Indra', 'Industrial', 'Influencer', 'Ini', 'Inisial', 'Ins', 'Intan', 'Internet', 'Invisible', 'Irregular', 'Isita', 'Istana', 'Italia', 'Itht', 'Izana', 'JCut', 'JEWELLERY', 'JIMIN', 'JIUERBACOD', 'JONY', 'JSCo', 'JUS', 'Ja', 'Jade', 'Jahat', 'Jalanan', 'Jangkar', 'Jantung', 'Jari', 'Jaring', 'Jatuhkan', 'Jennys', 'Jepang', 'Jepangmusim', 'Jeremy', 'Jewel', 'JewelryKU', 'JewelryMulticolor', 'Ji', 'JiMin', 'Jiangnan', 'Jinhetian', 'JiuDuoLan', 'Jiutai', 'Jojo', 'Jum', 'Jump', 'June', 'Juststee', 'KIMERA', 'KJ', 'KU', 'Kacamata', 'Kacang', 'Kaeya', 'Kantong', 'Kaos', 'Karena', 'Kartu', 'Kartun', 'Katak', 'Kaveh', 'Kawat', 'Keberuntungan', 'Kecantikan', 'Kehilangan', 'Keju', 'Kekasih', 'Kelelawar', 'Keliling', 'Kelinci', 'Kembali', 'Kemewahan', 'Kental', 'Kepik', 'Kerah', 'Kerajinan', 'Kerangka', 'Kesehatan', 'Ketupat', 'Keychain', 'Khusus', 'KilatBulingbuilng', 'Kim', 'Kipas', 'Kishibe', 'Kit', 'Kits', 'Kitten', 'Kiwi', 'Kkw', 'Klipjepit', 'Kloware', 'Klub', 'Kodok', 'Koin', 'Koleksi', 'Kolibri', 'Komik', 'Komposisi', 'Kong', 'Konstelasi', 'Koolsoo', 'KoreaAnting', 'Korearomantis', 'Korupsi', 'Kostum', 'KotakKotak', 'Kperempuan', 'Kreativitas', 'Ksatria', 'Kubus', 'Kucing', 'Kuku', 'Kulit', 'Kulomi', 'Kunci', 'Kuno', 'KupuKupu', 'Kurokawa', 'Kuromi', 'Kuroze', 'Kyo', 'LANFY', 'LILY', 'LOV', 'LUXIEM', 'LVN', 'LabaLaba', 'Labalaba', 'Labret', 'Labu', 'Lace', 'Lady', 'Ladybug', 'Lakamier', 'Lampu', 'Lancip', 'Langsing', 'Langsung', 'Lanyard', 'Lapisan', 'Large', 'Laser', 'Laut', 'Layering', 'Layers', 'Leaf', 'Lebah', 'Lee', 'Lelandi', 'Lemak', 'Lembut', 'Lemon', 'Lengan', 'Lengkap', 'Lengkung', 'Leopard', 'Lever', 'Leyer', 'Lhid', 'Liar', 'Liat', 'LibaitianOccident', 'Liburan', 'Liburanhadiah', 'Like', 'Lily', 'Lima', 'Line', 'Linier', 'LiontinKlavikula', 'Lip', 'Lipat', 'Lips', 'Lis', 'Little', 'Live', 'Lkn', 'Locking', 'Logo', 'Lombard', 'Lonceng', 'Loop', 'Lot', 'Louis', 'Lovely', 'Lovelycat', 'LowKey', 'Lukisan', 'LumbaLumba', 'LuminousXRNokiaxsTutup', 'Luolvid', 'Lux', 'Luxiem', 'Luxury', 'MAURICE', 'Macaron', 'Mad', 'Magic', 'Magnetic', 'Magnets', 'Mahasiswa', 'Malam', 'Man', 'Mangee', 'Manicure', 'ManikManik', 'Manikmanik', 'Manis', 'Manset', 'Maple', 'Marguerite', 'Martar', 'Marys', 'Masuk', 'Matahari', 'Maxg', 'Meat', 'Mekar', 'Meledak', 'Melengkung', 'Melingkar', 'Melody', 'Memakai', 'Membakar', 'Membuat', 'Memudar', 'Men', 'Menarik', 'Menawan', 'Mendukung', 'Menetes', 'MengMeng', 'Mengakhiri', 'Mengkilap', 'Mens', 'Menunjuk', 'Menurunkan', 'Menyenangkan', 'Merek', 'Merry', 'Mesh', 'Meteor', 'Metode', 'Mh', 'MicroHias', 'MidAutumn', 'Millenium', 'Min', 'Minimalis', 'Minoritas', 'Mint', 'Minyak', 'Misty', 'Mitsuya', 'Mixed', 'Miyazaki', 'Mmg', 'Modish', 'Moilyid', 'Moissanite', 'Moniko', 'Monster', 'Moon', 'Moonlight', 'Moonstone', 'Moose', 'Mori', 'Mosan', 'Moving', 'MuQkc', 'Multi', 'MultiCircle', 'MultiGaya', 'MultiLapisan', 'Multicolor', 'Multilapis', 'Multilayer', 'Multiwarna', 'Mumi', 'Musik', 'Musim', 'Mutiaraberlian', 'Mutiarakristal', 'My', 'Mypink', 'NIJISANJI', 'Naga', 'Nail', 'Nampan', 'Nanas', 'Naruto', 'Nasi', 'Nasional', 'National', 'Natural', 'Nbeads', 'Nct', 'Necklace', 'Needle', 'Needles', 'Netflix', 'New', 'Nhtid', 'Nickel', 'Nikah', 'Nisan', 'NoPierced', 'Noblecantik', 'Noelss', 'NonPierc', 'NonPiercing', 'Nonpierced', 'Not', 'Nova', 'Nuts', 'Nyamuk', 'OLEVS', 'OLOJO', 'Oblate', 'Oceanmap', 'Ol', 'Old', 'Olive', 'Olycraft', 'On', 'Onem', 'Oneseven', 'Online', 'Opal', 'OpaliteTurquoisHematite', 'Opera', 'Operasi', 'Opsional', 'Orange', 'Orangemango', 'Origami', 'Ornamen', 'Ornament', 'Ornaments', 'Orochimaru', 'Osier', 'Out', 'Oversize', 'Ox', 'P', 'PCKpop', 'PCSSet', 'PCs', 'PJ', 'PTD', 'PVC', 'Pacar', 'Packing', 'Painless', 'Pair', 'Pak', 'Palm', 'Panas', 'PanasTerlaris', 'Pandahall', 'Pandora', 'Panggung', 'Party', 'PasangSet', 'Pasangset', 'Pasar', 'Pasir', 'Paskah', 'Pasokan', 'Patch', 'Pattern', 'Paus', 'Payudara', 'Payung', 'PcsLot', 'Peach', 'PearlMulticolor', 'Peflower', 'Pejantan', 'Pelajar', 'Pelangi', 'Pelangsing', 'Pelembab', 'Pelindung', 'Peluru', 'Pembesar', 'Pendaki', 'Pendant', 'Pendek', 'Pendent', 'Pendukung', 'Pengangkat', 'Pengerjaan', 'Pengganti', 'Peniti', 'Penjepit', 'Penjualan', 'Pentagram', 'Penuh', 'Penurunan', 'Peraga', 'Perancis', 'Perdamaian', 'Peregang', 'Peregangan', 'Perfeclan', 'PerhiasanTrendy', 'Peri', 'Permen', 'Permukaan', 'Pernikahanhadiah', 'Pernyataan', 'Perry', 'Personality', 'Personalized', 'Pertunangan', 'Pesawat', 'Pesona', 'Pestahadiah', 'Pestapernikahan', 'Pet', 'Peta', 'Petite', 'Pharaoh', 'Phoenix', 'Piece', 'PieceKorean', 'Pierced', 'Piercings', 'Pijat', 'Pikachu', 'Pineapple', 'Pins', 'Pinus', 'Pirate', 'Pisau', 'Pista', 'Pjy', 'Planet', 'Plat', 'Platinum', 'Plugs', 'Plum', 'Plush', 'Pohon', 'Poin', 'Pointed', 'Polimer', 'Polong', 'Ponsel', 'Popular', 'Populer', 'Port', 'Portable', 'Post', 'Postur', 'Prajna', 'Priawanita', 'Pribadi', 'Print', 'Produsen', 'Prom', 'Prong', 'Prop', 'Props', 'Prt', 'Ps', 'Pudar', 'Punggung', 'Pure', 'Purple', 'Pusar', 'Pushback', 'Putaran', 'Puting', 'QDD', 'QKC', 'QL', 'QUEEN', 'QWP', 'Qipin', 'Qiqi', 'Qj', 'R', 'RC', 'REDKEE', 'RIS', 'RS', 'Rack', 'Rain', 'Rainflowerwow', 'Rambut', 'RantaiInsKalung', 'Rantaibulu', 'Rasa', 'Real', 'Realistis', 'Rear', 'Rebah', 'Rebus', 'Red', 'Rejeki', 'Removable', 'Renda', 'Resin', 'Revengers', 'Rflower', 'Rhineston', 'Rhinestone', 'Rhinestones', 'Rice', 'Rings', 'Ritsleting', 'Rock', 'Rococo', 'Rohan', 'Rok', 'Romantic', 'Romantis', 'Romawi', 'Roronoa', 'RoseBlackOld', 'Roselife', 'Rotten', 'Rowchic', 'Royal', 'Rubah', 'Ruby', 'Ruijin', 'Runcing', 'Ruowanmy', 'Rusa', 'SABACC', 'SD', 'SEALOVE', 'SMILE', 'SNID', 'STORY', 'SUNNIMIX', 'Sabit', 'Saham', 'Sailor', 'Sakura', 'Salip', 'Same', 'Sampai', 'Sangat', 'Sanrio', 'Santa', 'Sapphire', 'Sarung', 'Sash', 'Sasuke', 'Saturn', 'Sauron', 'Screw', 'Sea', 'Sedang', 'Segar', 'SehariHari', 'Sekrup', 'Seksi', 'Selatan', 'Selebriti', 'Selempang', 'Semangat', 'Semanggi', 'Semangka', 'Semi', 'Semicircle', 'Sen', 'Sendiri', 'Sendok', 'Sense', 'Sepatu', 'Septo', 'Septum', 'Serial', 'SeriesAnting', 'Seringai', 'Setengah', 'Setting', 'Sexy', 'Shambhala', 'Shape', 'ShapeMulticolor', 'Shapes', 'Shelf', 'Shell', 'Shipping', 'Shoogmi', 'ShopeeID', 'Shopeeid', 'Shopping', 'Show', 'Showing', 'Siaran', 'Silang', 'Silicon', 'Silinder', 'SilverK', 'Simbol', 'Simplemewah', 'Simplicity', 'Simpul', 'Simulasi', 'Simulasipearl', 'Siput', 'Sisi', 'Sisik', 'Siswa', 'Six', 'Siy', 'Skmei', 'Skull', 'Skzoo', 'Slid', 'Slim', 'Slip', 'Smiley', 'Snap', 'Snowflake', 'Snowman', 'SoYeon', 'Solid', 'Solighter', 'Solo', 'Son', 'Song', 'Spacer', 'Special', 'Spectacles', 'Speedy', 'Spiral', 'Spirit', 'Spoof', 'Spot', 'Spy', 'Squre', 'Stackable', 'Starry', 'Stars', 'Statement', 'Stereoskopis', 'Stock', 'StockS', 'Storage', 'Strawberry', 'Stretcher', 'Stretching', 'Styles', 'Stylish', 'Sumbat', 'Sun', 'Sunglasses', 'Surgical', 'Susid', 'Susu', 'Sutre', 'Swan', 'Swaroski', 'Sweet', 'Swivel', 'Sy', 'Syari', 'Synthetic', 'TERSEDIA', 'TR', 'TShirt', 'Tachiuwa', 'Tae', 'Tahu', 'Takashi', 'Takejoygood', 'Takerlama', 'Tali', 'Tanah', 'Tanam', 'Tanduk', 'TanganDipoles', 'Taper', 'Tapers', 'Tarot', 'Tarsureid', 'Tartaglia', 'Tas', 'Tassels', 'Taste', 'Tata', 'Tbid', 'Tea', 'Teardrop', 'Tebal', 'Tegas', 'Tekstur', 'TeleponiphonexsmaxKaca', 'TelingaBE', 'TelingaHidungBibir', 'Telur', 'Tema', 'Teman', 'Tembaga', 'TempatPcs', 'Tempatpcs', 'Temple', 'Temuan', 'Tengkorak', 'Tentang', 'Tentara', 'Terapi', 'Teratur', 'Terbaik', 'Terbang', 'Terbijaksana', 'Terbuka', 'TersebardiyKerajinan', 'Tertutup', 'Tetes', 'Tetesan', 'Thai', 'The', 'Threaded', 'ThreeProng', 'Threelayer', 'Thunder', 'Tide', 'Tiffany', 'Tiga', 'Tiki', 'Time', 'Timekey', 'Timun', 'Tindikpiercing', 'Tinggi', 'Tip', 'Tipe', 'TipisMencari', 'Titik', 'Tobie', 'Tokyo', 'Tomat', 'Tongkathatipohon', 'Tools', 'Topaz', 'Transaksi', 'Tremella', 'Trendi', 'Trendyeleganhip', 'Trendyperi', 'Trinkets', 'Tulip', 'Tulisan', 'Tulle', 'Tumpuk', 'Tunangan', 'Tunggal', 'Tunnel', 'Tunnels', 'Tupai', 'Turquoise', 'Tusukkalunggelang', 'Twice', 'Twist', 'Two', 'TwoWear', 'Type', 'UBentuk', 'Uchiha', 'Ujiang', 'Ukmm', 'Ular', 'Ulir', 'Ungu', 'Unhaired', 'Unicorn', 'Unisex', 'Universal', 'Unta', 'Untuknya', 'Upacara', 'Upstopid', 'Use', 'VAIN', 'VIVA', 'VR', 'VShaped', 'VTuber', 'Valens', 'Valentine', 'Vampir', 'Vampire', 'VastCourse', 'Venti', 'Ver', 'Vermeil', 'Versi', 'Vietnam', 'Viking', 'Vinrtage', 'Vintagebohemianetnik', 'Virtual', 'Vnox', 'Vtuber', 'Vuitton', 'WATTLE', 'Waa', 'Wajah', 'Wanit', 'WanitaDress', 'WarnaMelestarikan', 'WarnaWarni', 'Warni', 'Wars', 'Warung', 'Watch', 'Water', 'Way', 'We', 'Wear', 'Web', 'Weird', 'Weiyao', 'Wer', 'WhiteSmokeMisty', 'Wholesale', 'Wild', 'Willis', 'Wireless', 'Wishbone', 'Wmes', 'Womens', 'Word', 'World', 'Woven', 'Wrap', 'Wwsh', 'X', 'XIJING', 'XIX', 'XO', 'XREH', 'Xian', 'Xianqi', 'Xianrui', 'XiaoboACC', 'Xijing', 'Xmas', 'Xumi', 'YDEAONE', 'YEEZII', 'YIKUN', 'YK', 'YM', 'YS', 'Ya', 'Year', 'Yin', 'Yingdaer', 'Yk', 'Yoioi', 'Yola', 'Yor', 'You', 'Youn', 'Yueqinhaishang', 'Yurong', 'ZOMI', 'Zamasu', 'Zaozhuang', 'Zhen', 'Zhongli', 'Zhzh', 'Zinc', 'Zirconmutiara', 'Zodiac', 'Zoro', 'Zoteno', 'air', 'airpods', 'aksesori', 'alami', 'all', 'allergy', 'allinone', 'amp', 'antialergi', 'asymmetric', 'auger', 'auricle', 'baja', 'baris', 'bayi', 'beautifulhomeid', 'beauty', 'berkualitas', 'berliku', 'berlubang', 'berujung', 'berwarna', 'bone', 'buatan', 'buckle', 'bulu', 'butir', 'cc', 'cepat', 'chain', 'character', 'circle', 'circulating', 'classical', 'clipon', 'clipsUshaped', 'clipssingle', 'cocokSuper', 'collection', 'color', 'cool', 'cosplay', 'creative', 'd', 'daisy', 'dance', 'dapat', 'datar', 'defense', 'dekorasi', 'depan', 'diagonal', 'diamondshaped', 'dingin', 'diy', 'drop', 'dua', 'earr', 'earringsear', 'ehyc', 'elegant', 'elephant', 'embossed', 'enamel', 'encircling', 'er', 'fashionable', 'fei', 'female', 'feromagnetik', 'fesyen', 'flash', 'fresh', 'futian', 'gGAOW', 'gadis', 'ganda', 'garis', 'gelap', 'generous', 'gentle', 'geometris', 'girl', 'girls', 'grade', 'gratis', 'h', 'haruKorea', 'head', 'heartshaped', 'highend', 'hip', 'hipoalergenik', 'hole', 'home', 'hop', 'hot', 'humor', 'hypoallergenic', 'id', 'idol', 'impleear', 'inch', 'indah', 'individual', 'ini', 'inlaid', 'ins', 'jack', 'jantung', 'jingzhengkeji', 'jkhi', 'jumbai', 'ke', 'kepribadian', 'khusus', 'klip', 'kuat', 'lady', 'lalatag', 'lem', 'light', 'lightoverflow', 'lily', 'lima', 'line', 'lot', 'lswbd', 'luck', 'lucky', 'luxury', 'lzdjhyke', 'lzdxwcke', 'magnetik', 'makabakaa', 'male', 'manis', 'maxident', 'melody', 'menjuntai', 'mens', 'mmabsImitasi', 'mmmm', 'mocho', 'mode', 'modis', 'mony', 'moon', 'moonstone', 'mudah', 'muka', 'musim', 'my', 'nails', 'national', 'needles', 'net', 'niche', 'nispecial', 'no', 'nontindik', 'of', 'on', 'one', 'oneul', 'opal', 'ornaments', 'oval', 'pair', 'palace', 'pasangSet', 'pasangset', 'pcsSet', 'pcspak', 'pcsset', 'peng', 'penjepit', 'persegi', 'pieces', 'pin', 'plus', 'pointed', 'potongan', 'prosperriseid', 'rambut', 'red', 'ret', 'ringan', 'rontok', 'round', 's', 'salmoph', 'sedikit', 'segar', 'selebriti', 'seratus', 'serba', 'serbaguna', 'shape', 'shmao', 'shop', 'simulasi', 'sisi', 'sisir', 'siswa', 'siswi', 'skull', 'spot', 'star', 'stars', 'sterling', 'stock', 'supergrand', 'sweet', 'tawar', 'temperament', 'the', 'thickening', 'through', 'ti', 'tinggi', 'tip', 'trend', 'trendi', 'tunggal', 'type', 'up', 'v', 'vMoonlight', 'versatile', 'versi', 'vintage', 'wajah', 'weijiao', 'wh', 'wild', 'wind', 'winding', 'wlid', 'womens', 'woyao', 'xinyiaid', 'xmm', 'xxmm', 'y', 'yang', 'yard', 'young']\n",
      "\n"
     ]
    }
   ],
   "source": [
    "# Calculate frequency of keywords in the local DataFrame\n",
    "local_keywords = local_df['cleaned_title'].str.split(expand=True).stack().value_counts()\n",
    "\n",
    "# Calculate frequency of keywords in the cross-border DataFrame\n",
    "cross_border_keywords = cb_df['cleaned_title'].str.split(expand=True).stack().value_counts()\n",
    "\n",
    "# Keywords that appear more in local compared to cross-border\n",
    "keywords_appear_more_in_local = local_keywords.index.difference(cross_border_keywords.index).tolist()\n",
    "\n",
    "# Keywords that appear more in cross-border compared to local\n",
    "keywords_appear_more_in_cross_border = cross_border_keywords.index.difference(local_keywords.index).tolist()\n",
    "\n",
    "print(\"Keywords that appear more in local compared to cross-border:\")\n",
    "print(keywords_appear_more_in_local)\n",
    "\n",
    "print(\"\\nKeywords that appear more in cross-border compared to local:\")\n",
    "print(keywords_appear_more_in_cross_border)\n",
    "print()"
   ]
  },
  {
   "cell_type": "code",
   "execution_count": 22,
   "metadata": {},
   "outputs": [
    {
     "name": "stdout",
     "output_type": "stream",
     "text": [
      "(1570, 1)\n",
      "(1719, 1)\n"
     ]
    }
   ],
   "source": [
    "keywords_appear_more_in_local = pd.DataFrame(keywords_appear_more_in_local)\n",
    "print(keywords_appear_more_in_local.shape)\n",
    "keywords_appear_more_in_cb = pd.DataFrame(keywords_appear_more_in_cross_border)\n",
    "print(keywords_appear_more_in_cb.shape)"
   ]
  }
 ],
 "metadata": {
  "kernelspec": {
   "display_name": "datascience",
   "language": "python",
   "name": "python3"
  },
  "language_info": {
   "codemirror_mode": {
    "name": "ipython",
    "version": 3
   },
   "file_extension": ".py",
   "mimetype": "text/x-python",
   "name": "python",
   "nbconvert_exporter": "python",
   "pygments_lexer": "ipython3",
   "version": "3.10.11"
  },
  "orig_nbformat": 4
 },
 "nbformat": 4,
 "nbformat_minor": 2
}
